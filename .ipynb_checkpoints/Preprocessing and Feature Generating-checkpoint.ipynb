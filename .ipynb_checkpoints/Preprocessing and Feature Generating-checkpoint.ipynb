{
 "cells": [
  {
   "cell_type": "markdown",
   "metadata": {},
   "source": [
    "## This notebook is for data preprocessing and feature generating"
   ]
  },
  {
   "cell_type": "code",
   "execution_count": 1,
   "metadata": {},
   "outputs": [],
   "source": [
    "import numpy as np # linear algebra\n",
    "import pandas as pd \n",
    "# Any results you write to the current directory are saved as output.\n",
    "from sklearn.model_selection import KFold, StratifiedKFold\n",
    "from sklearn.metrics import roc_auc_score\n",
    "\n",
    "import lightgbm as lgb\n",
    "from tqdm import tqdm_notebook\n",
    "from scipy.stats import kurtosis\n",
    "import matplotlib.pyplot as plt\n",
    "import seaborn as sns\n",
    "from scipy import stats\n",
    "\n",
    "import warnings\n",
    "warnings.simplefilter(action='ignore', category=FutureWarning)\n",
    "warnings.filterwarnings('ignore')\n",
    "\n",
    "plt.style.use('seaborn')\n",
    "sns.set(font_scale=1)"
   ]
  },
  {
   "cell_type": "code",
   "execution_count": 2,
   "metadata": {},
   "outputs": [],
   "source": [
    "random_state = 42\n",
    "np.random.seed(random_state)\n",
    "df_train = pd.read_pickle('./train.pkl')\n",
    "df_test = pd.read_pickle('./test.pkl')"
   ]
  },
  {
   "cell_type": "code",
   "execution_count": 3,
   "metadata": {},
   "outputs": [],
   "source": [
    "feature = [col for col in df_train.columns if col not in ['ID_code', 'target']]\n",
    "# feature = [col for col in feature if col not in noise_cols]\n",
    "train_X = df_train[feature]#.values\n",
    "test_X = df_test[feature]#.values\n",
    "y = df_train['target']#.values"
   ]
  },
  {
   "cell_type": "code",
   "execution_count": 14,
   "metadata": {},
   "outputs": [],
   "source": [
    "public = np.load('public_LB.npy')\n",
    "private = np.load('private_LB.npy')\n",
    "real_idx = np.hstack([public[:],private])"
   ]
  },
  {
   "cell_type": "code",
   "execution_count": 17,
   "metadata": {
    "scrolled": true
   },
   "outputs": [],
   "source": [
    "fake_idx = np.array(list(set(range(200000))-set(real_idx)))"
   ]
  },
  {
   "cell_type": "code",
   "execution_count": 18,
   "metadata": {},
   "outputs": [],
   "source": [
    "real_idx = np.hstack([public,private])\n",
    "real_test = test_X.iloc[real_idx,:]\n",
    "fake_test = test_X.iloc[fake_idx,:]"
   ]
  },
  {
   "cell_type": "code",
   "execution_count": 19,
   "metadata": {},
   "outputs": [],
   "source": [
    "merge = df_train[feature].append(real_test[feature])"
   ]
  },
  {
   "cell_type": "code",
   "execution_count": 19,
   "metadata": {
    "scrolled": true
   },
   "outputs": [
    {
     "data": {
      "text/html": [
       "<div>\n",
       "<style scoped>\n",
       "    .dataframe tbody tr th:only-of-type {\n",
       "        vertical-align: middle;\n",
       "    }\n",
       "\n",
       "    .dataframe tbody tr th {\n",
       "        vertical-align: top;\n",
       "    }\n",
       "\n",
       "    .dataframe thead th {\n",
       "        text-align: right;\n",
       "    }\n",
       "</style>\n",
       "<table border=\"1\" class=\"dataframe\">\n",
       "  <thead>\n",
       "    <tr style=\"text-align: right;\">\n",
       "      <th></th>\n",
       "      <th>var_0</th>\n",
       "      <th>var_1</th>\n",
       "      <th>var_2</th>\n",
       "      <th>var_3</th>\n",
       "      <th>var_4</th>\n",
       "      <th>var_5</th>\n",
       "      <th>var_6</th>\n",
       "      <th>var_7</th>\n",
       "      <th>var_8</th>\n",
       "      <th>var_9</th>\n",
       "      <th>...</th>\n",
       "      <th>var_190</th>\n",
       "      <th>var_191</th>\n",
       "      <th>var_192</th>\n",
       "      <th>var_193</th>\n",
       "      <th>var_194</th>\n",
       "      <th>var_195</th>\n",
       "      <th>var_196</th>\n",
       "      <th>var_197</th>\n",
       "      <th>var_198</th>\n",
       "      <th>var_199</th>\n",
       "    </tr>\n",
       "  </thead>\n",
       "  <tbody>\n",
       "    <tr>\n",
       "      <th>131076</th>\n",
       "      <td>9.2554</td>\n",
       "      <td>-1.0297</td>\n",
       "      <td>11.1124</td>\n",
       "      <td>6.4313</td>\n",
       "      <td>11.3314</td>\n",
       "      <td>-12.7266</td>\n",
       "      <td>6.3105</td>\n",
       "      <td>16.3000</td>\n",
       "      <td>-2.3239</td>\n",
       "      <td>8.1701</td>\n",
       "      <td>...</td>\n",
       "      <td>-0.4578</td>\n",
       "      <td>4.1876</td>\n",
       "      <td>1.1284</td>\n",
       "      <td>0.3507</td>\n",
       "      <td>21.5428</td>\n",
       "      <td>-2.0701</td>\n",
       "      <td>8.0412</td>\n",
       "      <td>8.3893</td>\n",
       "      <td>16.8802</td>\n",
       "      <td>-2.9252</td>\n",
       "    </tr>\n",
       "    <tr>\n",
       "      <th>131078</th>\n",
       "      <td>8.1264</td>\n",
       "      <td>-6.3244</td>\n",
       "      <td>12.0427</td>\n",
       "      <td>10.5956</td>\n",
       "      <td>13.0515</td>\n",
       "      <td>2.4566</td>\n",
       "      <td>3.5076</td>\n",
       "      <td>15.2741</td>\n",
       "      <td>0.2167</td>\n",
       "      <td>7.0154</td>\n",
       "      <td>...</td>\n",
       "      <td>14.9504</td>\n",
       "      <td>6.2563</td>\n",
       "      <td>2.0848</td>\n",
       "      <td>0.1502</td>\n",
       "      <td>12.6401</td>\n",
       "      <td>-1.1512</td>\n",
       "      <td>3.2221</td>\n",
       "      <td>9.6693</td>\n",
       "      <td>20.4775</td>\n",
       "      <td>-5.2140</td>\n",
       "    </tr>\n",
       "    <tr>\n",
       "      <th>7</th>\n",
       "      <td>17.3035</td>\n",
       "      <td>-2.4212</td>\n",
       "      <td>13.3989</td>\n",
       "      <td>8.3998</td>\n",
       "      <td>11.0777</td>\n",
       "      <td>9.6449</td>\n",
       "      <td>5.9596</td>\n",
       "      <td>17.8477</td>\n",
       "      <td>-4.8068</td>\n",
       "      <td>7.4643</td>\n",
       "      <td>...</td>\n",
       "      <td>4.4676</td>\n",
       "      <td>4.4214</td>\n",
       "      <td>0.9303</td>\n",
       "      <td>1.4994</td>\n",
       "      <td>15.2648</td>\n",
       "      <td>-1.7931</td>\n",
       "      <td>6.5316</td>\n",
       "      <td>10.4855</td>\n",
       "      <td>23.4631</td>\n",
       "      <td>0.7283</td>\n",
       "    </tr>\n",
       "    <tr>\n",
       "      <th>131080</th>\n",
       "      <td>11.8092</td>\n",
       "      <td>3.5175</td>\n",
       "      <td>7.2401</td>\n",
       "      <td>7.0770</td>\n",
       "      <td>11.4143</td>\n",
       "      <td>-14.7267</td>\n",
       "      <td>5.6070</td>\n",
       "      <td>12.5889</td>\n",
       "      <td>-0.4833</td>\n",
       "      <td>6.0718</td>\n",
       "      <td>...</td>\n",
       "      <td>-3.9433</td>\n",
       "      <td>10.3476</td>\n",
       "      <td>0.3822</td>\n",
       "      <td>3.6427</td>\n",
       "      <td>15.0925</td>\n",
       "      <td>-0.2888</td>\n",
       "      <td>1.0308</td>\n",
       "      <td>8.2361</td>\n",
       "      <td>20.6083</td>\n",
       "      <td>-7.6494</td>\n",
       "    </tr>\n",
       "    <tr>\n",
       "      <th>131081</th>\n",
       "      <td>8.5003</td>\n",
       "      <td>1.9545</td>\n",
       "      <td>7.6174</td>\n",
       "      <td>5.8388</td>\n",
       "      <td>11.2791</td>\n",
       "      <td>-9.4543</td>\n",
       "      <td>5.4782</td>\n",
       "      <td>17.9878</td>\n",
       "      <td>-1.9208</td>\n",
       "      <td>7.1584</td>\n",
       "      <td>...</td>\n",
       "      <td>5.8599</td>\n",
       "      <td>5.1527</td>\n",
       "      <td>1.4673</td>\n",
       "      <td>-4.5566</td>\n",
       "      <td>18.7032</td>\n",
       "      <td>-0.6078</td>\n",
       "      <td>-3.9766</td>\n",
       "      <td>9.4843</td>\n",
       "      <td>15.7983</td>\n",
       "      <td>5.2175</td>\n",
       "    </tr>\n",
       "  </tbody>\n",
       "</table>\n",
       "<p>5 rows × 200 columns</p>\n",
       "</div>"
      ],
      "text/plain": [
       "          var_0   var_1    var_2    var_3    var_4    var_5   var_6    var_7  \\\n",
       "131076   9.2554 -1.0297  11.1124   6.4313  11.3314 -12.7266  6.3105  16.3000   \n",
       "131078   8.1264 -6.3244  12.0427  10.5956  13.0515   2.4566  3.5076  15.2741   \n",
       "7       17.3035 -2.4212  13.3989   8.3998  11.0777   9.6449  5.9596  17.8477   \n",
       "131080  11.8092  3.5175   7.2401   7.0770  11.4143 -14.7267  5.6070  12.5889   \n",
       "131081   8.5003  1.9545   7.6174   5.8388  11.2791  -9.4543  5.4782  17.9878   \n",
       "\n",
       "         var_8   var_9   ...     var_190  var_191  var_192  var_193  var_194  \\\n",
       "131076 -2.3239  8.1701   ...     -0.4578   4.1876   1.1284   0.3507  21.5428   \n",
       "131078  0.2167  7.0154   ...     14.9504   6.2563   2.0848   0.1502  12.6401   \n",
       "7      -4.8068  7.4643   ...      4.4676   4.4214   0.9303   1.4994  15.2648   \n",
       "131080 -0.4833  6.0718   ...     -3.9433  10.3476   0.3822   3.6427  15.0925   \n",
       "131081 -1.9208  7.1584   ...      5.8599   5.1527   1.4673  -4.5566  18.7032   \n",
       "\n",
       "        var_195  var_196  var_197  var_198  var_199  \n",
       "131076  -2.0701   8.0412   8.3893  16.8802  -2.9252  \n",
       "131078  -1.1512   3.2221   9.6693  20.4775  -5.2140  \n",
       "7       -1.7931   6.5316  10.4855  23.4631   0.7283  \n",
       "131080  -0.2888   1.0308   8.2361  20.6083  -7.6494  \n",
       "131081  -0.6078  -3.9766   9.4843  15.7983   5.2175  \n",
       "\n",
       "[5 rows x 200 columns]"
      ]
     },
     "execution_count": 19,
     "metadata": {},
     "output_type": "execute_result"
    }
   ],
   "source": [
    "real_test.head()"
   ]
  },
  {
   "cell_type": "markdown",
   "metadata": {},
   "source": [
    "Tried including kurtosis and Isolation Forest to specify anomaly point, but didn't work"
   ]
  },
  {
   "cell_type": "code",
   "execution_count": 52,
   "metadata": {},
   "outputs": [],
   "source": [
    "# kurtosis_list = []\n",
    "# for i in range(200):\n",
    "#     kurtosis_list.append(kurtosis(list(set(real_test.iloc[:,i]))))"
   ]
  },
  {
   "cell_type": "code",
   "execution_count": 11,
   "metadata": {},
   "outputs": [],
   "source": [
    "# from sklearn.ensemble import IsolationForest\n",
    "# clf = IsolationForest(behaviour='new', max_samples=100, n_jobs=-1,\n",
    "#                       random_state=random_state, contamination='auto')"
   ]
  },
  {
   "cell_type": "code",
   "execution_count": 49,
   "metadata": {},
   "outputs": [
    {
     "name": "stdout",
     "output_type": "stream",
     "text": [
      "CPU times: user 128 ms, sys: 220 ms, total: 348 ms\n",
      "Wall time: 3.39 s\n"
     ]
    },
    {
     "data": {
      "text/plain": [
       "IsolationForest(behaviour='new', bootstrap=False, contamination='auto',\n",
       "        max_features=1.0, max_samples=100, n_estimators=100, n_jobs=-1,\n",
       "        random_state=42, verbose=0)"
      ]
     },
     "execution_count": 49,
     "metadata": {},
     "output_type": "execute_result"
    }
   ],
   "source": [
    "# %%time\n",
    "# clf.fit(real_test)\n",
    "# # iso = (train_X)"
   ]
  },
  {
   "cell_type": "code",
   "execution_count": 9,
   "metadata": {
    "scrolled": true
   },
   "outputs": [
    {
     "data": {
      "text/html": [
       "<div>\n",
       "<style scoped>\n",
       "    .dataframe tbody tr th:only-of-type {\n",
       "        vertical-align: middle;\n",
       "    }\n",
       "\n",
       "    .dataframe tbody tr th {\n",
       "        vertical-align: top;\n",
       "    }\n",
       "\n",
       "    .dataframe thead th {\n",
       "        text-align: right;\n",
       "    }\n",
       "</style>\n",
       "<table border=\"1\" class=\"dataframe\">\n",
       "  <thead>\n",
       "    <tr style=\"text-align: right;\">\n",
       "      <th></th>\n",
       "      <th>var_0</th>\n",
       "      <th>var_1</th>\n",
       "      <th>var_2</th>\n",
       "      <th>var_3</th>\n",
       "      <th>var_4</th>\n",
       "      <th>var_5</th>\n",
       "      <th>var_6</th>\n",
       "      <th>var_7</th>\n",
       "      <th>var_8</th>\n",
       "      <th>var_9</th>\n",
       "      <th>...</th>\n",
       "      <th>var_190</th>\n",
       "      <th>var_191</th>\n",
       "      <th>var_192</th>\n",
       "      <th>var_193</th>\n",
       "      <th>var_194</th>\n",
       "      <th>var_195</th>\n",
       "      <th>var_196</th>\n",
       "      <th>var_197</th>\n",
       "      <th>var_198</th>\n",
       "      <th>var_199</th>\n",
       "    </tr>\n",
       "  </thead>\n",
       "  <tbody>\n",
       "    <tr>\n",
       "      <th>0</th>\n",
       "      <td>8.9255</td>\n",
       "      <td>-6.7863</td>\n",
       "      <td>11.9081</td>\n",
       "      <td>5.0930</td>\n",
       "      <td>11.4607</td>\n",
       "      <td>-9.2834</td>\n",
       "      <td>5.1187</td>\n",
       "      <td>18.6266</td>\n",
       "      <td>-4.9200</td>\n",
       "      <td>5.7470</td>\n",
       "      <td>...</td>\n",
       "      <td>4.4354</td>\n",
       "      <td>3.9642</td>\n",
       "      <td>3.1364</td>\n",
       "      <td>1.6910</td>\n",
       "      <td>18.5227</td>\n",
       "      <td>-2.3978</td>\n",
       "      <td>7.8784</td>\n",
       "      <td>8.5635</td>\n",
       "      <td>12.7803</td>\n",
       "      <td>-1.0914</td>\n",
       "    </tr>\n",
       "    <tr>\n",
       "      <th>1</th>\n",
       "      <td>11.5006</td>\n",
       "      <td>-4.1473</td>\n",
       "      <td>13.8588</td>\n",
       "      <td>5.3890</td>\n",
       "      <td>12.3622</td>\n",
       "      <td>7.0433</td>\n",
       "      <td>5.6208</td>\n",
       "      <td>16.5338</td>\n",
       "      <td>3.1468</td>\n",
       "      <td>8.0851</td>\n",
       "      <td>...</td>\n",
       "      <td>7.6421</td>\n",
       "      <td>7.7214</td>\n",
       "      <td>2.5837</td>\n",
       "      <td>10.9516</td>\n",
       "      <td>15.4305</td>\n",
       "      <td>2.0339</td>\n",
       "      <td>8.1267</td>\n",
       "      <td>8.7889</td>\n",
       "      <td>18.3560</td>\n",
       "      <td>1.9518</td>\n",
       "    </tr>\n",
       "    <tr>\n",
       "      <th>2</th>\n",
       "      <td>8.6093</td>\n",
       "      <td>-2.7457</td>\n",
       "      <td>12.0805</td>\n",
       "      <td>7.8928</td>\n",
       "      <td>10.5825</td>\n",
       "      <td>-9.0837</td>\n",
       "      <td>6.9427</td>\n",
       "      <td>14.6155</td>\n",
       "      <td>-4.9193</td>\n",
       "      <td>5.9525</td>\n",
       "      <td>...</td>\n",
       "      <td>2.9057</td>\n",
       "      <td>9.7905</td>\n",
       "      <td>1.6704</td>\n",
       "      <td>1.6858</td>\n",
       "      <td>21.6042</td>\n",
       "      <td>3.1417</td>\n",
       "      <td>-6.5213</td>\n",
       "      <td>8.2675</td>\n",
       "      <td>14.7222</td>\n",
       "      <td>0.3965</td>\n",
       "    </tr>\n",
       "    <tr>\n",
       "      <th>3</th>\n",
       "      <td>11.0604</td>\n",
       "      <td>-2.1518</td>\n",
       "      <td>8.9522</td>\n",
       "      <td>7.1957</td>\n",
       "      <td>12.5846</td>\n",
       "      <td>-1.8361</td>\n",
       "      <td>5.8428</td>\n",
       "      <td>14.9250</td>\n",
       "      <td>-5.8609</td>\n",
       "      <td>8.2450</td>\n",
       "      <td>...</td>\n",
       "      <td>4.4666</td>\n",
       "      <td>4.7433</td>\n",
       "      <td>0.7178</td>\n",
       "      <td>1.4214</td>\n",
       "      <td>23.0347</td>\n",
       "      <td>-1.2706</td>\n",
       "      <td>-2.9275</td>\n",
       "      <td>10.2922</td>\n",
       "      <td>17.9697</td>\n",
       "      <td>-8.9996</td>\n",
       "    </tr>\n",
       "    <tr>\n",
       "      <th>4</th>\n",
       "      <td>9.8369</td>\n",
       "      <td>-1.4834</td>\n",
       "      <td>12.8746</td>\n",
       "      <td>6.6375</td>\n",
       "      <td>12.2772</td>\n",
       "      <td>2.4486</td>\n",
       "      <td>5.9405</td>\n",
       "      <td>19.2514</td>\n",
       "      <td>6.2654</td>\n",
       "      <td>7.6784</td>\n",
       "      <td>...</td>\n",
       "      <td>-1.4905</td>\n",
       "      <td>9.5214</td>\n",
       "      <td>-0.1508</td>\n",
       "      <td>9.1942</td>\n",
       "      <td>13.2876</td>\n",
       "      <td>-1.5121</td>\n",
       "      <td>3.9267</td>\n",
       "      <td>9.5031</td>\n",
       "      <td>17.9974</td>\n",
       "      <td>-8.8104</td>\n",
       "    </tr>\n",
       "  </tbody>\n",
       "</table>\n",
       "<p>5 rows × 200 columns</p>\n",
       "</div>"
      ],
      "text/plain": [
       "     var_0   var_1    var_2   var_3    var_4   var_5   var_6    var_7   var_8  \\\n",
       "0   8.9255 -6.7863  11.9081  5.0930  11.4607 -9.2834  5.1187  18.6266 -4.9200   \n",
       "1  11.5006 -4.1473  13.8588  5.3890  12.3622  7.0433  5.6208  16.5338  3.1468   \n",
       "2   8.6093 -2.7457  12.0805  7.8928  10.5825 -9.0837  6.9427  14.6155 -4.9193   \n",
       "3  11.0604 -2.1518   8.9522  7.1957  12.5846 -1.8361  5.8428  14.9250 -5.8609   \n",
       "4   9.8369 -1.4834  12.8746  6.6375  12.2772  2.4486  5.9405  19.2514  6.2654   \n",
       "\n",
       "    var_9   ...     var_190  var_191  var_192  var_193  var_194  var_195  \\\n",
       "0  5.7470   ...      4.4354   3.9642   3.1364   1.6910  18.5227  -2.3978   \n",
       "1  8.0851   ...      7.6421   7.7214   2.5837  10.9516  15.4305   2.0339   \n",
       "2  5.9525   ...      2.9057   9.7905   1.6704   1.6858  21.6042   3.1417   \n",
       "3  8.2450   ...      4.4666   4.7433   0.7178   1.4214  23.0347  -1.2706   \n",
       "4  7.6784   ...     -1.4905   9.5214  -0.1508   9.1942  13.2876  -1.5121   \n",
       "\n",
       "   var_196  var_197  var_198  var_199  \n",
       "0   7.8784   8.5635  12.7803  -1.0914  \n",
       "1   8.1267   8.7889  18.3560   1.9518  \n",
       "2  -6.5213   8.2675  14.7222   0.3965  \n",
       "3  -2.9275  10.2922  17.9697  -8.9996  \n",
       "4   3.9267   9.5031  17.9974  -8.8104  \n",
       "\n",
       "[5 rows x 200 columns]"
      ]
     },
     "execution_count": 9,
     "metadata": {},
     "output_type": "execute_result"
    }
   ],
   "source": [
    "merge.head()"
   ]
  },
  {
   "cell_type": "code",
   "execution_count": 20,
   "metadata": {},
   "outputs": [],
   "source": [
    "def add_count(df):\n",
    "    for f in tqdm_notebook(feature):\n",
    "        count = df[f].value_counts().keys()[(df[f].value_counts()>1)]\n",
    "        df[f+'_i'] = df[f].apply(lambda x: x if x in count else np.nan)\n",
    "    return df"
   ]
  },
  {
   "cell_type": "code",
   "execution_count": 19,
   "metadata": {},
   "outputs": [],
   "source": [
    "# def add_pct(df):\n",
    "#     for f in tqdm_notebook(feature):\n",
    "#         count = df[f].value_counts().keys()[(df[f].value_counts()>1)]\n",
    "#         df[f+'_i'] = df[f].apply(lambda x: round(stats.percentileofscore(df[f],x),3) if x in count else 'nan')\n",
    "#     return df\n",
    "\n",
    "# def add_pct2(df):\n",
    "#     for f in tqdm_notebook(feature):\n",
    "#         count = df[f].value_counts().keys()[(df[f].value_counts()>1)]\n",
    "#         df[f+'_i'] = df[f].apply(lambda x: stats.percentileofscore(df[f],x) if x in count else 'nan')\n",
    "#     return df"
   ]
  },
  {
   "cell_type": "markdown",
   "metadata": {},
   "source": [
    "## Features 200:400, mark if the data is noised."
   ]
  },
  {
   "cell_type": "code",
   "execution_count": null,
   "metadata": {},
   "outputs": [],
   "source": [
    "merge_final = add_count(merge_pct)"
   ]
  },
  {
   "cell_type": "code",
   "execution_count": 22,
   "metadata": {},
   "outputs": [],
   "source": [
    "final_train = merge_final.iloc[:200000,:]\n",
    "final_test = merge_final.iloc[200000:,:]"
   ]
  },
  {
   "cell_type": "code",
   "execution_count": 18,
   "metadata": {},
   "outputs": [],
   "source": [
    "np.save('train_0408_noise_raw', final_train.values)\n",
    "np.save('test_0408_noise_raw', final_test.values)"
   ]
  },
  {
   "cell_type": "code",
   "execution_count": 20,
   "metadata": {
    "scrolled": true
   },
   "outputs": [
    {
     "data": {
      "application/vnd.jupyter.widget-view+json": {
       "model_id": "8157258fc838431c8947c093bdce0951",
       "version_major": 2,
       "version_minor": 0
      },
      "text/plain": [
       "HBox(children=(IntProgress(value=0, max=200), HTML(value='')))"
      ]
     },
     "metadata": {},
     "output_type": "display_data"
    }
   ],
   "source": [
    "merge_pct = add_pct975(merge)"
   ]
  },
  {
   "cell_type": "markdown",
   "metadata": {},
   "source": [
    "## Features 400:600, mark if the data is in the 2.5-97.5 percentile."
   ]
  },
  {
   "cell_type": "code",
   "execution_count": 11,
   "metadata": {},
   "outputs": [],
   "source": [
    "low = np.percentile(real_test[f], 0.05)\n",
    "high = np.percentile(real_test[f], 0.95)"
   ]
  },
  {
   "cell_type": "code",
   "execution_count": 13,
   "metadata": {},
   "outputs": [],
   "source": [
    "def add_pct975(df):\n",
    "    for f in tqdm_notebook(feature):\n",
    "        low = np.percentile(real_test[f], 0.025)\n",
    "        high = np.percentile(real_test[f], 0.975)\n",
    "        df[f+'_pct95'] = df[f].apply(lambda x: ((x>low)&(x<high)))\n",
    "#         df[f+'_pct95'] = df[f].apply(lambda x: round(x,3) if ((x>low)&(x<high)) else 'nan')\n",
    "    return df"
   ]
  },
  {
   "cell_type": "code",
   "execution_count": null,
   "metadata": {},
   "outputs": [],
   "source": [
    "merge_final = add_pct975(merge_pct)"
   ]
  },
  {
   "cell_type": "code",
   "execution_count": null,
   "metadata": {},
   "outputs": [],
   "source": [
    "final_train = merge_final.iloc[:200000,:]\n",
    "final_test = merge_final.iloc[200000:,:]"
   ]
  },
  {
   "cell_type": "code",
   "execution_count": 23,
   "metadata": {},
   "outputs": [],
   "source": [
    "np.save('train_0407_rdpctall_pct975', final_train.values)\n",
    "np.save('test_0407_rdpctall_pct975', final_test.values)"
   ]
  },
  {
   "cell_type": "code",
   "execution_count": 14,
   "metadata": {},
   "outputs": [
    {
     "data": {
      "text/html": [
       "<div>\n",
       "<style scoped>\n",
       "    .dataframe tbody tr th:only-of-type {\n",
       "        vertical-align: middle;\n",
       "    }\n",
       "\n",
       "    .dataframe tbody tr th {\n",
       "        vertical-align: top;\n",
       "    }\n",
       "\n",
       "    .dataframe thead th {\n",
       "        text-align: right;\n",
       "    }\n",
       "</style>\n",
       "<table border=\"1\" class=\"dataframe\">\n",
       "  <thead>\n",
       "    <tr style=\"text-align: right;\">\n",
       "      <th></th>\n",
       "      <th>var_0</th>\n",
       "      <th>var_1</th>\n",
       "      <th>var_2</th>\n",
       "      <th>var_3</th>\n",
       "      <th>var_4</th>\n",
       "      <th>var_5</th>\n",
       "      <th>var_6</th>\n",
       "      <th>var_7</th>\n",
       "      <th>var_8</th>\n",
       "      <th>var_9</th>\n",
       "      <th>...</th>\n",
       "      <th>var_190_i</th>\n",
       "      <th>var_191_i</th>\n",
       "      <th>var_192_i</th>\n",
       "      <th>var_193_i</th>\n",
       "      <th>var_194_i</th>\n",
       "      <th>var_195_i</th>\n",
       "      <th>var_196_i</th>\n",
       "      <th>var_197_i</th>\n",
       "      <th>var_198_i</th>\n",
       "      <th>var_199_i</th>\n",
       "    </tr>\n",
       "  </thead>\n",
       "  <tbody>\n",
       "    <tr>\n",
       "      <th>0</th>\n",
       "      <td>8.9255</td>\n",
       "      <td>-6.7863</td>\n",
       "      <td>11.9081</td>\n",
       "      <td>5.0930</td>\n",
       "      <td>11.4607</td>\n",
       "      <td>-9.2834</td>\n",
       "      <td>5.1187</td>\n",
       "      <td>18.6266</td>\n",
       "      <td>-4.9200</td>\n",
       "      <td>5.7470</td>\n",
       "      <td>...</td>\n",
       "      <td>4.4354</td>\n",
       "      <td>3.9642</td>\n",
       "      <td>3.1364</td>\n",
       "      <td>1.6910</td>\n",
       "      <td>18.5227</td>\n",
       "      <td>-2.3978</td>\n",
       "      <td>7.8784</td>\n",
       "      <td>8.5635</td>\n",
       "      <td>12.7803</td>\n",
       "      <td>-1.0914</td>\n",
       "    </tr>\n",
       "    <tr>\n",
       "      <th>1</th>\n",
       "      <td>11.5006</td>\n",
       "      <td>-4.1473</td>\n",
       "      <td>13.8588</td>\n",
       "      <td>5.3890</td>\n",
       "      <td>12.3622</td>\n",
       "      <td>7.0433</td>\n",
       "      <td>5.6208</td>\n",
       "      <td>16.5338</td>\n",
       "      <td>3.1468</td>\n",
       "      <td>8.0851</td>\n",
       "      <td>...</td>\n",
       "      <td>7.6421</td>\n",
       "      <td>7.7214</td>\n",
       "      <td>2.5837</td>\n",
       "      <td>10.9516</td>\n",
       "      <td>15.4305</td>\n",
       "      <td>2.0339</td>\n",
       "      <td>8.1267</td>\n",
       "      <td>8.7889</td>\n",
       "      <td>18.3560</td>\n",
       "      <td>1.9518</td>\n",
       "    </tr>\n",
       "    <tr>\n",
       "      <th>2</th>\n",
       "      <td>8.6093</td>\n",
       "      <td>-2.7457</td>\n",
       "      <td>12.0805</td>\n",
       "      <td>7.8928</td>\n",
       "      <td>10.5825</td>\n",
       "      <td>-9.0837</td>\n",
       "      <td>6.9427</td>\n",
       "      <td>14.6155</td>\n",
       "      <td>-4.9193</td>\n",
       "      <td>5.9525</td>\n",
       "      <td>...</td>\n",
       "      <td>2.9057</td>\n",
       "      <td>9.7905</td>\n",
       "      <td>1.6704</td>\n",
       "      <td>1.6858</td>\n",
       "      <td>21.6042</td>\n",
       "      <td>3.1417</td>\n",
       "      <td>-6.5213</td>\n",
       "      <td>8.2675</td>\n",
       "      <td>14.7222</td>\n",
       "      <td>0.3965</td>\n",
       "    </tr>\n",
       "    <tr>\n",
       "      <th>3</th>\n",
       "      <td>11.0604</td>\n",
       "      <td>-2.1518</td>\n",
       "      <td>8.9522</td>\n",
       "      <td>7.1957</td>\n",
       "      <td>12.5846</td>\n",
       "      <td>-1.8361</td>\n",
       "      <td>5.8428</td>\n",
       "      <td>14.9250</td>\n",
       "      <td>-5.8609</td>\n",
       "      <td>8.2450</td>\n",
       "      <td>...</td>\n",
       "      <td>4.4666</td>\n",
       "      <td>4.7433</td>\n",
       "      <td>0.7178</td>\n",
       "      <td>1.4214</td>\n",
       "      <td>23.0347</td>\n",
       "      <td>-1.2706</td>\n",
       "      <td>-2.9275</td>\n",
       "      <td>10.2922</td>\n",
       "      <td>17.9697</td>\n",
       "      <td>-8.9996</td>\n",
       "    </tr>\n",
       "    <tr>\n",
       "      <th>4</th>\n",
       "      <td>9.8369</td>\n",
       "      <td>-1.4834</td>\n",
       "      <td>12.8746</td>\n",
       "      <td>6.6375</td>\n",
       "      <td>12.2772</td>\n",
       "      <td>2.4486</td>\n",
       "      <td>5.9405</td>\n",
       "      <td>19.2514</td>\n",
       "      <td>6.2654</td>\n",
       "      <td>7.6784</td>\n",
       "      <td>...</td>\n",
       "      <td>-1.4905</td>\n",
       "      <td>9.5214</td>\n",
       "      <td>NaN</td>\n",
       "      <td>NaN</td>\n",
       "      <td>NaN</td>\n",
       "      <td>-1.5121</td>\n",
       "      <td>3.9267</td>\n",
       "      <td>9.5031</td>\n",
       "      <td>17.9974</td>\n",
       "      <td>-8.8104</td>\n",
       "    </tr>\n",
       "  </tbody>\n",
       "</table>\n",
       "<p>5 rows × 400 columns</p>\n",
       "</div>"
      ],
      "text/plain": [
       "     var_0   var_1    var_2   var_3    var_4   var_5   var_6    var_7   var_8  \\\n",
       "0   8.9255 -6.7863  11.9081  5.0930  11.4607 -9.2834  5.1187  18.6266 -4.9200   \n",
       "1  11.5006 -4.1473  13.8588  5.3890  12.3622  7.0433  5.6208  16.5338  3.1468   \n",
       "2   8.6093 -2.7457  12.0805  7.8928  10.5825 -9.0837  6.9427  14.6155 -4.9193   \n",
       "3  11.0604 -2.1518   8.9522  7.1957  12.5846 -1.8361  5.8428  14.9250 -5.8609   \n",
       "4   9.8369 -1.4834  12.8746  6.6375  12.2772  2.4486  5.9405  19.2514  6.2654   \n",
       "\n",
       "    var_9    ...      var_190_i  var_191_i  var_192_i  var_193_i  var_194_i  \\\n",
       "0  5.7470    ...         4.4354     3.9642     3.1364     1.6910    18.5227   \n",
       "1  8.0851    ...         7.6421     7.7214     2.5837    10.9516    15.4305   \n",
       "2  5.9525    ...         2.9057     9.7905     1.6704     1.6858    21.6042   \n",
       "3  8.2450    ...         4.4666     4.7433     0.7178     1.4214    23.0347   \n",
       "4  7.6784    ...        -1.4905     9.5214        NaN        NaN        NaN   \n",
       "\n",
       "   var_195_i  var_196_i  var_197_i  var_198_i  var_199_i  \n",
       "0    -2.3978     7.8784     8.5635    12.7803    -1.0914  \n",
       "1     2.0339     8.1267     8.7889    18.3560     1.9518  \n",
       "2     3.1417    -6.5213     8.2675    14.7222     0.3965  \n",
       "3    -1.2706    -2.9275    10.2922    17.9697    -8.9996  \n",
       "4    -1.5121     3.9267     9.5031    17.9974    -8.8104  \n",
       "\n",
       "[5 rows x 400 columns]"
      ]
     },
     "execution_count": 14,
     "metadata": {},
     "output_type": "execute_result"
    }
   ],
   "source": [
    "merge_final.head()"
   ]
  },
  {
   "cell_type": "markdown",
   "metadata": {},
   "source": [
    "## Gerating statistics features across different variables."
   ]
  },
  {
   "cell_type": "markdown",
   "metadata": {},
   "source": [
    "Since different variables have different scales, before got the features across the features we need to standscale them first.\n",
    "Then Added variance and "
   ]
  },
  {
   "cell_type": "code",
   "execution_count": 25,
   "metadata": {},
   "outputs": [],
   "source": [
    "from sklearn.preprocessing import StandardScaler\n",
    "\n",
    "scaler = StandardScaler()\n",
    "\n",
    "merge_scale = merge.copy()"
   ]
  },
  {
   "cell_type": "code",
   "execution_count": 44,
   "metadata": {},
   "outputs": [],
   "source": [
    "scaler.fit(real_test[feature])\n",
    "merge_scale[feature] = scaler.transform(merge[feature])"
   ]
  },
  {
   "cell_type": "code",
   "execution_count": 51,
   "metadata": {},
   "outputs": [],
   "source": [
    "var_mean = merge_scale.values.mean(axis=1)\n",
    "\n",
    "var_skew = stats.skew(merge_scale.values,axis=1)\n",
    "var_sta = np.hstack([np.expand_dims(var_mean,1),np.expand_dims(var_skew,1)])"
   ]
  },
  {
   "cell_type": "code",
   "execution_count": 52,
   "metadata": {
    "scrolled": true
   },
   "outputs": [
    {
     "data": {
      "text/plain": [
       "(300000, 2)"
      ]
     },
     "execution_count": 52,
     "metadata": {},
     "output_type": "execute_result"
    }
   ],
   "source": [
    "var_sta.shape"
   ]
  },
  {
   "cell_type": "code",
   "execution_count": 53,
   "metadata": {},
   "outputs": [],
   "source": [
    "var_sta_train = var_sta[:200000]\n",
    "var_sta_fake = var_sta[200000:]\n",
    "\n",
    "np.save('var_sta_train', var_sta_train)\n",
    "np.save('var_sta_fake', var_sta_fake)"
   ]
  },
  {
   "cell_type": "code",
   "execution_count": 23,
   "metadata": {},
   "outputs": [],
   "source": [
    "final_train = merge_final.iloc[:200000,200:]\n",
    "fake_test = merge_final.iloc[200000:,200:]"
   ]
  },
  {
   "cell_type": "code",
   "execution_count": 73,
   "metadata": {},
   "outputs": [],
   "source": [
    "final_train = merge_pct.iloc[:200000,200:]\n",
    "final_test = merge_pct.iloc[200000:,200:]"
   ]
  },
  {
   "cell_type": "code",
   "execution_count": null,
   "metadata": {},
   "outputs": [],
   "source": [
    "var_mean = merge_scale.values.mean(axis=1)\n",
    "var_mean = np.apply_along_axis(lambda x: x if ((x>-0.05)&(x<0.05)) else np.nan,1,np.expand_dims(var_mean,1))\n",
    "var_skew = stats.skew(merge_scale.values,axis=1)\n",
    "var_skew = np.apply_along_axis(lambda x: x if ((x>-0.1)&(x<0.1)) else np.nan,1,np.expand_dims(var_skew,1))\n",
    "var_sta = np.hstack([var_mean,var_skew])"
   ]
  },
  {
   "cell_type": "code",
   "execution_count": 61,
   "metadata": {},
   "outputs": [],
   "source": [
    "final_train = merge.iloc[:200000,:]\n",
    "final_test = merge.iloc[200000:,:]"
   ]
  },
  {
   "cell_type": "code",
   "execution_count": 63,
   "metadata": {},
   "outputs": [],
   "source": [
    "np.save('train_X', final_train.values)\n",
    "np.save('test_X', final_test.values)"
   ]
  },
  {
   "cell_type": "code",
   "execution_count": null,
   "metadata": {},
   "outputs": [],
   "source": []
  }
 ],
 "metadata": {
  "kernelspec": {
   "display_name": "Environment (conda_pytorch_p36)",
   "language": "python",
   "name": "conda_pytorch_p36"
  },
  "language_info": {
   "codemirror_mode": {
    "name": "ipython",
    "version": 3
   },
   "file_extension": ".py",
   "mimetype": "text/x-python",
   "name": "python",
   "nbconvert_exporter": "python",
   "pygments_lexer": "ipython3",
   "version": "3.6.5"
  }
 },
 "nbformat": 4,
 "nbformat_minor": 2
}
